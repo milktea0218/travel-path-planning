{
 "cells": [
  {
   "cell_type": "markdown",
   "id": "2fa28148-8ed0-4c58-a2c4-e3e7df0fbfee",
   "metadata": {},
   "source": [
    "# **此程式為螞蟻演算法(ACO)應用實作**\n",
    "----------------------\n",
    "\n",
    "### **問題:在所有已知地點中，如何求出拜訪的最短路線? (地點不可重複拜訪)**"
   ]
  },
  {
   "cell_type": "code",
   "execution_count": 1,
   "id": "dc6ceb12-7ff2-4a19-b7bf-49e839ee0a08",
   "metadata": {},
   "outputs": [],
   "source": [
    "import sys\n",
    "import math\n",
    "import time\n",
    "import random"
   ]
  },
  {
   "cell_type": "markdown",
   "id": "bd25f2fc-4b12-470d-9c3b-af46ce7e57be",
   "metadata": {},
   "source": [
    "### **1.定義相關參數**"
   ]
  },
  {
   "cell_type": "code",
   "execution_count": 2,
   "id": "39ea4d85-0606-4c4a-b43f-24541ea19770",
   "metadata": {},
   "outputs": [],
   "source": [
    "alpha=1\n",
    "beta=5\n",
    "Q=1\n",
    "E=8\n",
    "\n",
    "#螞蟻數量\n",
    "size=20\n",
    "\n",
    "#城市數量\n",
    "num=5\n",
    "\n",
    "#城市間的距離(事先定義好)\n",
    "distance= [[0.0, 100.0, 150.0, 500.0, 210.0], \n",
    "           [100.0, 0.0, 90.0, 100.0, 150.0], \n",
    "           [150.0, 90.0, 0.0, 40.0, 100.0], \n",
    "           [500.0, 100.0, 40.0, 0.0, 130.0], \n",
    "           [210.0, 150.0, 100.0, 130.0, 0.0]]\n"
   ]
  },
  {
   "cell_type": "markdown",
   "id": "f258417d-4758-46cb-8c64-24964de6498e",
   "metadata": {},
   "source": [
    "### **2.初始化**"
   ]
  },
  {
   "cell_type": "code",
   "execution_count": 3,
   "id": "332bdab0-5056-4922-b3e0-2a5632e5c759",
   "metadata": {},
   "outputs": [],
   "source": [
    "def _initial_(size, num, a, b, city_distance):\n",
    "\n",
    "    #可見度\n",
    "    global Visibility\n",
    "    \n",
    "    #費洛蒙\n",
    "    global Pheromone\n",
    "    \n",
    "    #螞蟻所在位置(城市)\n",
    "    global ants_address\n",
    "    \n",
    "    #儲存路線的list\n",
    "    global t\n",
    "    \n",
    "    global prate\n",
    "    \n",
    "    #全域(歷史)最佳路徑\n",
    "    global GBestTour\n",
    "    \n",
    "    #全域(歷史)最佳路徑之距離\n",
    "    global GBestFitness\n",
    "    \n",
    "    Visibility=[[0.0]*num]*num\n",
    "    Pheromone=[[0.0]*num]*num\n",
    "    ants_address=[0]*size\n",
    "    t=[0]*num\n",
    "    prate=[0.0]*num\n",
    "    GBestTour=[0]*num\n",
    "    GBestFitness=sys.float_info.max \n",
    "\n",
    "    for i in range(num):\n",
    "        for j in range(num):\n",
    "            distance[i][j] = city_distance[i][j]\n",
    "            if (i != j):\n",
    "                #初始費洛蒙\n",
    "                Pheromone[i][j]=1.0\n",
    "                #初始可見度\n",
    "                Visibility[i][j]=1/distance[i][j] \n",
    "    #初始螞蟻位置\n",
    "    for i in range(size):\n",
    "        ants_address[i] = random.randint(0, num-1)"
   ]
  },
  {
   "cell_type": "markdown",
   "id": "44d1ca77-717c-4d92-b5b8-d92177da61a8",
   "metadata": {},
   "source": [
    "### **3.行進。 根據「費洛蒙」跟「可見度訊息」選擇下一個要前往的城市**"
   ]
  },
  {
   "cell_type": "code",
   "execution_count": 4,
   "id": "de96029a-7537-4943-8e15-cdc5c3395e99",
   "metadata": {},
   "outputs": [],
   "source": [
    "def walk(where_ant):\n",
    "    for i in range(num):\n",
    "        t[i] = i\n",
    "        \n",
    "    # t[0] 為當下初始的點\n",
    "    tmp=t[0]\n",
    "    t[0]=t[where_ant]\n",
    "    t[where_ant]=tmp\n",
    "\n",
    "    #做剩下 n - 1 次\n",
    "    for i in range(1,num):\n",
    "        \n",
    "        nowrate=[0]*num\n",
    "        nowrate_sum=0.0\n",
    "        \n",
    "        #可選擇的點個別機率 & 總和\n",
    "        for j in range(i,num):\n",
    "            k=i-1\n",
    "            #p(i) 分母\n",
    "            nowrate_sum += (math.pow(Pheromone[t[k]][t[j]], alpha) * math.pow(Visibility[t[k]][t[j]], beta))\n",
    "\n",
    "        for j in range(i,num):\n",
    "            k=i-1\n",
    "            #p(i) value && 正規化\n",
    "            nowrate[j] = (math.pow(Pheromone[t[k]][t[j]], alpha) * math.pow(Visibility[t[k]][t[j]], beta)) / nowrate_sum\n",
    "        \n",
    "        #走輪盤法\n",
    "        r = random.random()\n",
    "        now=i\n",
    "        while (r > 0):\n",
    "            r -= nowrate[now]\n",
    "            if(r > 0):\n",
    "                now+=1\n",
    "\n",
    "        #i值位置前 表示 已經走過的城市(過程按i值)，位置後 表示 還未到的城市\n",
    "        tmp=t[i]\n",
    "        t[i]=t[now]\n",
    "        t[now]=tmp"
   ]
  },
  {
   "cell_type": "markdown",
   "id": "762018ee-d68f-41ef-bd93-c6ace41012c5",
   "metadata": {},
   "source": [
    "### **4.迭代。 根據每一隻螞蟻選擇的路線，計算分數，並讓費洛蒙揮發**"
   ]
  },
  {
   "cell_type": "code",
   "execution_count": 5,
   "id": "e94f6257-e0fc-4c0d-9b09-b8834d4bbe8a",
   "metadata": {},
   "outputs": [],
   "source": [
    "def iter(MaxCycle):\n",
    "\n",
    "    currentCycle = 1\n",
    "    global GBestFitness\n",
    "    \n",
    "    while (currentCycle <= MaxCycle):\n",
    "        \n",
    "        for j in range(len(ants_address)): \n",
    "            \n",
    "            #走滿一次cycle\n",
    "            walk(ants_address[j])\n",
    "            \n",
    "            #得到路線總距離\n",
    "            tour = Fitness(t)\n",
    "            \n",
    "            #判斷路線是否好\n",
    "            if tour < GBestFitness:\n",
    "                GBestFitness = tour\n",
    "                for i in range(num):\n",
    "                    GBestTour[i] = t[i]\n",
    "        #Pheromone揮發\n",
    "        for i in range(num - 1):\n",
    "            for k in range(num):\n",
    "                Pheromone[i][k] = Pheromone[i][k] * 0.99\n",
    "\n",
    "        #對目前最好的路線重點標記一次\n",
    "        for i in range(num - 1):\n",
    "            Pheromone[GBestTour[i]][GBestTour[i + 1]] += (E * Q / GBestFitness)\n",
    "        Pheromone[GBestTour[num - 1]][GBestTour[0]] += (E * Q / GBestFitness)\n",
    "        \n",
    "        currentCycle+=1"
   ]
  },
  {
   "cell_type": "markdown",
   "id": "24e06810-77df-4d3d-9843-c6e938fc550c",
   "metadata": {},
   "source": [
    "### **5.定義Fitness。 預設為路線所產生的距離總和**"
   ]
  },
  {
   "cell_type": "code",
   "execution_count": 6,
   "id": "86bf985b-c996-4530-8b2e-ca0a10aaa109",
   "metadata": {},
   "outputs": [],
   "source": [
    "def Fitness(t):\n",
    "    sum=0\n",
    "    for i in range(len(t)-1):\n",
    "        sum+=distance[t[i+1]][t[i]]\n",
    "    return sum"
   ]
  },
  {
   "cell_type": "markdown",
   "id": "b233db4c-03d5-43a3-951a-88660f6901c9",
   "metadata": {},
   "source": [
    "### **6.訓練**"
   ]
  },
  {
   "cell_type": "code",
   "execution_count": 7,
   "id": "bff82ae1-559b-4056-ab09-72064673fd83",
   "metadata": {},
   "outputs": [],
   "source": [
    "def start(run_length,FunctionEvaluationCount):\n",
    "    \n",
    "    best_fitness=[0.0]*run_length\n",
    "    bf_sum=0.0\n",
    "    \n",
    "    for run in range(run_length):\n",
    "    \n",
    "        _initial_(size, num, alpha, beta, distance)\n",
    "        iter(FunctionEvaluationCount)\n",
    "    \n",
    "        best_fitness[run]=GBestFitness\n",
    "        bf_sum+=best_fitness[run]\n",
    "    \n",
    "        print(f\"No.{run + 1} Run: Best Fitness = {best_fitness[run]}\")\n",
    "    print(\"最佳路線為:\",GBestTour)"
   ]
  },
  {
   "cell_type": "markdown",
   "id": "9acb7036-247c-4dde-9ca8-fe401643e123",
   "metadata": {},
   "source": [
    "### **7.結果**\n",
    "#### **\\#城市間距離是自定義的，不難，很快便可求出**\n",
    "#### **\\#最佳路線可能不只一個**"
   ]
  },
  {
   "cell_type": "code",
   "execution_count": 8,
   "id": "f539e5f9-69b6-4e58-8123-9a05a47d34c9",
   "metadata": {},
   "outputs": [
    {
     "name": "stdout",
     "output_type": "stream",
     "text": [
      "No.1 Run: Best Fitness = 340.0\n",
      "No.2 Run: Best Fitness = 340.0\n",
      "No.3 Run: Best Fitness = 340.0\n",
      "最佳路線為: [4, 2, 3, 1, 0]\n"
     ]
    }
   ],
   "source": [
    "start(3,100)"
   ]
  },
  {
   "cell_type": "markdown",
   "id": "51bbeb78-3cd2-41c4-a22a-cfcc17f3135c",
   "metadata": {},
   "source": [
    "-----------------------\n",
    "#### **可延伸出其他應用，例如地點1跟地點3有重要客戶，需要優先拜訪**\n",
    "#### **此時修改fitness計算方式如下:**"
   ]
  },
  {
   "cell_type": "code",
   "execution_count": 9,
   "id": "93f38d9c-596e-4394-bf6c-c37a8357e669",
   "metadata": {},
   "outputs": [],
   "source": [
    "def Fitness(t):\n",
    "    sum=0\n",
    "    for i in range(len(t)-1):\n",
    "        \n",
    "        #越早拜訪1跟3，分數越好\n",
    "        if(t[i]==0 or t[i]==2):\n",
    "            sum+=i**2*1000\n",
    "        sum+=distance[t[i+1]][t[i]]\n",
    "\n",
    "    #補迴圈漏掉的部分\n",
    "    if t[len(t)-1]==0 or t[len(t)-1]==2 :\n",
    "        sum+=len(t)**2*1000\n",
    "    return sum"
   ]
  },
  {
   "cell_type": "markdown",
   "id": "528c213d-6c11-40ca-9d44-7420b5e2ebd9",
   "metadata": {},
   "source": [
    "#### **結果如下:**"
   ]
  },
  {
   "cell_type": "code",
   "execution_count": 10,
   "id": "86f650a4-c726-4f77-8ace-6f9d47cf7460",
   "metadata": {},
   "outputs": [
    {
     "name": "stdout",
     "output_type": "stream",
     "text": [
      "No.1 Run: Best Fitness = 1440.0\n",
      "No.2 Run: Best Fitness = 1440.0\n",
      "No.3 Run: Best Fitness = 1440.0\n",
      "最佳路線為: [0, 2, 3, 1, 4]\n"
     ]
    }
   ],
   "source": [
    "start(3,100)"
   ]
  }
 ],
 "metadata": {
  "kernelspec": {
   "display_name": "Python 3 (ipykernel)",
   "language": "python",
   "name": "python3"
  },
  "language_info": {
   "codemirror_mode": {
    "name": "ipython",
    "version": 3
   },
   "file_extension": ".py",
   "mimetype": "text/x-python",
   "name": "python",
   "nbconvert_exporter": "python",
   "pygments_lexer": "ipython3",
   "version": "3.11.5"
  }
 },
 "nbformat": 4,
 "nbformat_minor": 5
}
